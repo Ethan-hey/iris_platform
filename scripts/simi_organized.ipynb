{
 "cells": [
  {
   "cell_type": "code",
   "execution_count": 1,
   "metadata": {
    "collapsed": true
   },
   "outputs": [],
   "source": [
    "\n",
    "from scipy.linalg import norm\n",
    "from scipy import sum, average\n",
    "\n",
    "from __future__ import division\n",
    "\n",
    "import cv2\n",
    "from os import path\n",
    "from glob import glob "
   ]
  },
  {
   "cell_type": "code",
   "execution_count": 8,
   "metadata": {
    "collapsed": true
   },
   "outputs": [],
   "source": [
    "def compare_images(img1, img2, verbose=False):\n",
    "    \n",
    "    # convert image to gray scale\n",
    "    img1 = cv2.cvtColor(img1,cv2.COLOR_BGR2GRAY)\n",
    "    img2 = cv2.cvtColor(img2,cv2.COLOR_BGR2GRAY)\n",
    "    \n",
    "    # crop images to required size\n",
    "    img1 = crop_resize(img1)\n",
    "    img2 = crop_resize(img2)\n",
    "    \n",
    "    # normalize images\n",
    "    img1 = normalize(img1)\n",
    "    img2 = normalize(img2)\n",
    "    \n",
    "    # calculate the difference and its norms\n",
    "    diff = img1 - img2  # elementwise for scipy arrays\n",
    "    m_norm = sum(abs(diff))  # Manhattan norm\n",
    "    z_norm = norm(diff.ravel(), 0)  # Zero norm\n",
    "    if verbose:\n",
    "        print \"Manhattan norm per pixel:\", m_norm/img1.size\n",
    "    \n",
    "    return (m_norm/img1.size)"
   ]
  },
  {
   "cell_type": "code",
   "execution_count": 2,
   "metadata": {
    "collapsed": true
   },
   "outputs": [],
   "source": [
    "def normalize(arr):\n",
    "    rng = arr.max()-arr.min()\n",
    "    amin = arr.min()\n",
    "    return (arr-amin)*255/rng"
   ]
  },
  {
   "cell_type": "code",
   "execution_count": 3,
   "metadata": {
    "collapsed": true
   },
   "outputs": [],
   "source": [
    "def crop_resize(img, height=480, width=640):\n",
    "    \n",
    "    imgH = img.shape[0]\n",
    "    imgW = img.shape[1]\n",
    "    \n",
    "    ratio = height / width\n",
    "    img_ratio = imgH / imgW\n",
    "    \n",
    "    # adjust height to width ratio to required size\n",
    "    if img_ratio > ratio:\n",
    "        c_img = img[0:int(ratio * imgW), 0:imgW]\n",
    "    elif img_ratio < ratio:\n",
    "        c_img = img[0:imgH, 0:(imgH / ratio)]\n",
    "    else:\n",
    "        c_img = img[0:imgH, 0:imgW]\n",
    "     \n",
    "    c_img = cv2.resize(c_img, (height, width)) # adjust resolution\n",
    "    return c_img"
   ]
  },
  {
   "cell_type": "code",
   "execution_count": 5,
   "metadata": {
    "collapsed": true
   },
   "outputs": [],
   "source": [
    "iris = cv2.imread('S3001L01.jpg')\n",
    "\n",
    "fb1 = cv2.imread('18138004_163325265000_2.jpg')\n",
    "fb2 = cv2.imread('20130711120117-1161777702.jpg')\n",
    "fb3 = cv2.imread('9667726_082238294187_2.jpg')"
   ]
  },
  {
   "cell_type": "code",
   "execution_count": 26,
   "metadata": {
    "collapsed": false
   },
   "outputs": [],
   "source": [
    "# read ten iris images as sample images\n",
    "def get_samples(dr=\"sample_images/\", ext=\"jpg\"):\n",
    "    images = glob(path.join(dr,\"*.{}\".format(ext)))\n",
    "    for i in range(len(images)):\n",
    "        img = images[i]\n",
    "        img = cv2.imread(img)\n",
    "        images[i] = img\n",
    "    return images"
   ]
  },
  {
   "cell_type": "code",
   "execution_count": 32,
   "metadata": {
    "collapsed": false
   },
   "outputs": [
    {
     "name": "stdout",
     "output_type": "stream",
     "text": [
      "0.128886025471\n"
     ]
    }
   ],
   "source": [
    "samples = get_samples()\n",
    "dists = []\n",
    "for sam in samples:\n",
    "    dists.append(compare_images(sam, fb3))\n",
    "print average(dists)"
   ]
  },
  {
   "cell_type": "code",
   "execution_count": 33,
   "metadata": {
    "collapsed": true
   },
   "outputs": [],
   "source": [
    "# check if uploaded image similar to sample iris images\n",
    "def judge_similarity(img, threshold = 0.18, verbose=False):\n",
    "    samples = get_samples()\n",
    "    dists =  []\n",
    "    for sam in samples:\n",
    "        dists.append(compare_images(sam, img))\n",
    "    distance = average(dists)\n",
    "    if verbose:\n",
    "        print 'Threshold value is:', threshold\n",
    "        print 'Distance between image and sample images is:', distance\n",
    "    return distance <= threshold"
   ]
  },
  {
   "cell_type": "code",
   "execution_count": 36,
   "metadata": {
    "collapsed": false
   },
   "outputs": [
    {
     "name": "stdout",
     "output_type": "stream",
     "text": [
      "Threshold value is: 0.18\n",
      "Distance between image and sample images is: 0.228848837636\n"
     ]
    },
    {
     "name": "stderr",
     "output_type": "stream",
     "text": [
      "C:\\Users\\THINKPAD\\Anaconda2\\lib\\site-packages\\ipykernel\\__main__.py:12: VisibleDeprecationWarning: using a non-integer number instead of an integer will result in an error in the future\n"
     ]
    },
    {
     "data": {
      "text/plain": [
       "False"
      ]
     },
     "execution_count": 36,
     "metadata": {},
     "output_type": "execute_result"
    }
   ],
   "source": [
    "judge_similarity(fb1, verbose=True)"
   ]
  },
  {
   "cell_type": "code",
   "execution_count": null,
   "metadata": {
    "collapsed": true
   },
   "outputs": [],
   "source": []
  }
 ],
 "metadata": {
  "kernelspec": {
   "display_name": "Python 2",
   "language": "python",
   "name": "python2"
  },
  "language_info": {
   "codemirror_mode": {
    "name": "ipython",
    "version": 2
   },
   "file_extension": ".py",
   "mimetype": "text/x-python",
   "name": "python",
   "nbconvert_exporter": "python",
   "pygments_lexer": "ipython2",
   "version": "2.7.13"
  }
 },
 "nbformat": 4,
 "nbformat_minor": 0
}
