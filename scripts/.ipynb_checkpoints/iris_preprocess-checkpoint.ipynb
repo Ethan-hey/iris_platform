{
 "cells": [
  {
   "cell_type": "code",
   "execution_count": null,
   "metadata": {
    "collapsed": true
   },
   "outputs": [],
   "source": [
    "if not request.user.is_authenticated():\n",
    "        return HttpResponse(\"Please log in first\")"
   ]
  },
  {
   "cell_type": "code",
   "execution_count": null,
   "metadata": {
    "collapsed": true
   },
   "outputs": [],
   "source": []
  },
  {
   "cell_type": "code",
   "execution_count": null,
   "metadata": {
    "collapsed": true
   },
   "outputs": [],
   "source": []
  },
  {
   "cell_type": "code",
   "execution_count": 1,
   "metadata": {
    "collapsed": true
   },
   "outputs": [],
   "source": [
    "import cv2\n",
    "import matplotlib.pyplot as plt\n",
    "import numpy as np\n",
    "%matplotlib inline\n",
    "from __future__ import division"
   ]
  },
  {
   "cell_type": "code",
   "execution_count": 2,
   "metadata": {
    "collapsed": true
   },
   "outputs": [],
   "source": [
    "from os import path\n",
    "from glob import glob  \n",
    "def find_ext(dr, ext):\n",
    "    print path.join(dr,\"*.{}\".format(ext))\n",
    "    return glob(path.join(dr,\"*.{}\".format(ext)))"
   ]
  },
  {
   "cell_type": "code",
   "execution_count": 3,
   "metadata": {
    "collapsed": false
   },
   "outputs": [
    {
     "name": "stdout",
     "output_type": "stream",
     "text": [
      "../../hq_iris_image/*.jpg\n"
     ]
    }
   ],
   "source": [
    "images = find_ext(\"../../hq_iris_image/\",\"jpg\")"
   ]
  },
  {
   "cell_type": "code",
   "execution_count": 21,
   "metadata": {
    "collapsed": false
   },
   "outputs": [],
   "source": [
    "image = images[10]\n",
    "image = cv2.imread(image)\n",
    "plat = pre_process(image)"
   ]
  },
  {
   "cell_type": "code",
   "execution_count": 14,
   "metadata": {
    "collapsed": false
   },
   "outputs": [
    {
     "data": {
      "text/plain": [
       "-1"
      ]
     },
     "execution_count": 14,
     "metadata": {},
     "output_type": "execute_result"
    }
   ],
   "source": [
    "cv2.imshow('image', image)\n",
    "cv2.imshow('plt', plat)\n",
    "cv2.waitKey(0)"
   ]
  },
  {
   "cell_type": "code",
   "execution_count": 18,
   "metadata": {
    "collapsed": false
   },
   "outputs": [],
   "source": [
    "success = 0\n",
    "fail = 0\n",
    "\n",
    "for img in images[100:200]:\n",
    "    img = cv2.imread(img)\n",
    "    try:\n",
    "        pre_process(img)\n",
    "        success += 1\n",
    "    except:\n",
    "        fail += 1"
   ]
  },
  {
   "cell_type": "code",
   "execution_count": 19,
   "metadata": {
    "collapsed": false
   },
   "outputs": [
    {
     "name": "stdout",
     "output_type": "stream",
     "text": [
      "97\n",
      "3\n"
     ]
    }
   ],
   "source": [
    "print success\n",
    "print fail"
   ]
  },
  {
   "cell_type": "code",
   "execution_count": 26,
   "metadata": {
    "collapsed": false
   },
   "outputs": [
    {
     "data": {
      "text/plain": [
       "(480L, 640L, 3L)"
      ]
     },
     "execution_count": 26,
     "metadata": {},
     "output_type": "execute_result"
    }
   ],
   "source": [
    "image.shape"
   ]
  },
  {
   "cell_type": "code",
   "execution_count": 22,
   "metadata": {
    "collapsed": false
   },
   "outputs": [
    {
     "ename": "TypeError",
     "evalue": "'tuple' object is not callable",
     "output_type": "error",
     "traceback": [
      "\u001b[1;31m---------------------------------------------------------------------------\u001b[0m",
      "\u001b[1;31mTypeError\u001b[0m                                 Traceback (most recent call last)",
      "\u001b[1;32m<ipython-input-22-dddad4777f5f>\u001b[0m in \u001b[0;36m<module>\u001b[1;34m()\u001b[0m\n\u001b[1;32m----> 1\u001b[1;33m \u001b[0mimage\u001b[0m\u001b[1;33m.\u001b[0m\u001b[0mshape\u001b[0m\u001b[1;33m(\u001b[0m\u001b[1;33m)\u001b[0m\u001b[1;33m\u001b[0m\u001b[0m\n\u001b[0m",
      "\u001b[1;31mTypeError\u001b[0m: 'tuple' object is not callable"
     ]
    }
   ],
   "source": [
    "image.shape()"
   ]
  },
  {
   "cell_type": "code",
   "execution_count": 17,
   "metadata": {
    "collapsed": true
   },
   "outputs": [],
   "source": [
    "def pre_process(image, width=360, height=60):\n",
    "    \n",
    "    # Convert image to gray and blur\n",
    "    gray = cv2.cvtColor(image,cv2.COLOR_BGR2GRAY)\n",
    "    gray = cv2.medianBlur(gray, 11)\n",
    "    \n",
    "    # Use Hough transform to detect circle\n",
    "    ret, th3 = cv2.threshold(gray, 0, 255, cv2.THRESH_BINARY + cv2.THRESH_OTSU)\n",
    "    circle_in = cv2.HoughCircles(image=gray,method=cv2.cv.CV_HOUGH_GRADIENT,dp=1,\n",
    "                            minDist=50,param1=ret,param2=30,minRadius=1,maxRadius=100)[0][0]\n",
    "    circle_out = circle_in.copy()\n",
    "    circle_out[2] = 90\n",
    "    \n",
    "    # x, y, r for the inner circle and outer circle\n",
    "    X_in_cen, Y_in_cen, r_in = circle_in[1], circle_in[0], circle_in[2]\n",
    "    X_out_cen, Y_out_cen, r_out = circle_out[1], circle_out[0], circle_out[2]\n",
    "    \n",
    "    thetas = np.arange(0, 2  * np.pi, 2  * np.pi / width) #Theta values\n",
    "    \n",
    "    # Create empty flatten image\n",
    "    flat = np.zeros((height, width, 3), np.uint8)\n",
    "    \n",
    "    for i in range(width):\n",
    "        for j in range(height):\n",
    "            \n",
    "            theta = thetas[i] # value of theta coordinate\n",
    "            r_pro = j / height # value of r coordinate(normalized)\n",
    "\n",
    "            # get coordinate of boundaries\n",
    "            Xi = X_in_cen + r_in * np.cos(theta)\n",
    "            Yi = Y_in_cen + r_in * np.sin(theta)\n",
    "            Xo = X_out_cen + r_out * np.cos(theta)\n",
    "            Yo = Y_out_cen + r_out * np.sin(theta)\n",
    "\n",
    "            # the matched cartesian coordinates for the polar coordinates\n",
    "            Xc = (1 - r_pro) * Xi + r_pro * Xo\n",
    "            Yc = (1 - r_pro) * Yi + r_pro * Yo\n",
    "\n",
    "            color = image[int(Xc)][int(Yc)] # color of the pixel\n",
    "\n",
    "            flat[j][i] = color # fill color\n",
    "            \n",
    "            if (j-Y_out_cen)**2 + (i-X_out_cen)**2 = r_out**2:\n",
    "                image[j][i] = (255, 0, 0)\n",
    "        \n",
    "    return flat"
   ]
  },
  {
   "cell_type": "code",
   "execution_count": 10,
   "metadata": {
    "collapsed": false
   },
   "outputs": [],
   "source": [
    "def pre_process(image, width=360, height=60):\n",
    "    \n",
    "    # Convert image to gray and blur\n",
    "    gray = cv2.cvtColor(image,cv2.COLOR_BGR2GRAY)\n",
    "    gray = cv2.medianBlur(gray, 11)\n",
    "\n",
    "    \n",
    "    # Use Hough transform to detect circle\n",
    "    ret, th3 = cv2.threshold(gray, 0, 255, cv2.THRESH_BINARY + cv2.THRESH_OTSU)\n",
    "    \n",
    "    circle_in = cv2.HoughCircles(image=gray,method=cv2.cv.CV_HOUGH_GRADIENT,dp=1,\n",
    "                            minDist=5,param1=ret,param2=30,minRadius=30,maxRadius=200)[0][0]\n",
    "    circle_out = circle_in.copy()\n",
    "    circle_out[2] = 120\n",
    "      \n",
    "    flat_img = flatten_img(image, circle_in, circle_out, width, height)\n",
    "    \n",
    "    return flat_img"
   ]
  },
  {
   "cell_type": "code",
   "execution_count": null,
   "metadata": {
    "collapsed": true
   },
   "outputs": [],
   "source": []
  },
  {
   "cell_type": "code",
   "execution_count": 14,
   "metadata": {
    "collapsed": false
   },
   "outputs": [],
   "source": [
    "def flatten_img(image, circle_in, circle_out, width=360, height=60):\n",
    "    \n",
    "    # x, y, r for the inner circle and outer circle\n",
    "    X_in_cen, Y_in_cen, r_in = circle_in[1], circle_in[0], circle_in[2]\n",
    "    X_out_cen, Y_out_cen, r_out = circle_out[1], circle_out[0], circle_out[2]\n",
    "    \n",
    "    thetas = np.arange(0, 2  * np.pi, 2  * np.pi / width) #Theta values\n",
    "    \n",
    "    # Create empty flatten image\n",
    "    flat = np.zeros((height, width, 3), np.uint8)\n",
    "    \n",
    "    for i in range(width):\n",
    "        \n",
    "        theta = thetas[i] # value of theta coordinate\n",
    "        \n",
    "        for j in range(height):\n",
    "            \n",
    "            r_pro = j / height # value of r coordinate(normalized)\n",
    "\n",
    "            # get coordinate of boundaries\n",
    "            Xi = X_in_cen + r_in * np.cos(theta)\n",
    "            Yi = Y_in_cen + r_in * np.sin(theta)\n",
    "            Xo = X_out_cen + r_out * np.cos(theta)\n",
    "            Yo = Y_out_cen + r_out * np.sin(theta)\n",
    "\n",
    "            # the matched cartesian coordinates for the polar coordinates\n",
    "            Xc = (1 - r_pro) * Xi + r_pro * Xo\n",
    "            Yc = (1 - r_pro) * Yi + r_pro * Yo\n",
    "\n",
    "            color = img[int(Xc)][int(Yc)] # color of the pixel\n",
    "\n",
    "            flat[j][i] = color # fill color\n",
    "            \n",
    "    return flat"
   ]
  },
  {
   "cell_type": "code",
   "execution_count": 12,
   "metadata": {
    "collapsed": true
   },
   "outputs": [],
   "source": [
    "def create_blank_img(width, height, rgb_color=(0, 0, 0)):\n",
    "    \"\"\"Create new image(numpy array) filled with certain color in RGB\"\"\"\n",
    "    # Create black blank image\n",
    "    image = np.zeros((height, width, 3), np.uint8)\n",
    "\n",
    "    # Since OpenCV uses BGR, convert the color first\n",
    "    color = tuple(reversed(rgb_color))\n",
    "    # Fill image with color\n",
    "    image[:] = color\n",
    "\n",
    "    return image"
   ]
  },
  {
   "cell_type": "code",
   "execution_count": null,
   "metadata": {
    "collapsed": true
   },
   "outputs": [],
   "source": []
  },
  {
   "cell_type": "code",
   "execution_count": 5,
   "metadata": {
    "collapsed": false
   },
   "outputs": [],
   "source": [
    "def pre_process(image, width=360, height=60):\n",
    "    \n",
    "    # Convert image to gray and blur\n",
    "    gray = cv2.cvtColor(image,cv2.COLOR_BGR2GRAY)\n",
    "    gray = cv2.medianBlur(gray, 17)\n",
    "    \n",
    "    # Use Hough transform to detect circle\n",
    "    ret, th3 = cv2.threshold(gray, 0, 255, cv2.THRESH_BINARY + cv2.THRESH_OTSU)\n",
    "    circle_in = cv2.HoughCircles(image=gray,method=cv2.cv.CV_HOUGH_GRADIENT,dp=1,\n",
    "                            minDist=50,param1=ret,param2=30,minRadius=1,maxRadius=200)[0][0]\n",
    "    circle_out = circle_in.copy()\n",
    "    circle_out[2] = 120\n",
    "      \n",
    "    flat_img = flatten_img(image, circle_in, circle_out, width, height)\n",
    "    \n",
    "    def create_blank_img(width, height, rgb_color=(0, 0, 0)):\n",
    "\t    # Create black blank image\n",
    "\t    image = np.zeros((height, width, 3), np.uint8)\n",
    "\n",
    "\t    # Since OpenCV uses BGR, convert the color first\n",
    "\t    color = tuple(reversed(rgb_color))\n",
    "\t    # Fill image with color\n",
    "\t    image[:] = color\n",
    "\n",
    "\t    return image\n",
    "\n",
    "    def flatten_img(image, circle_in, circle_out, width=360, height=60):\n",
    "    \n",
    "\t    # x, y, r for the inner circle and outer circle\n",
    "\t    X_in_cen, Y_in_cen, r_in = circle_in[1], circle_in[0], circle_in[2]\n",
    "\t    X_out_cen, Y_out_cen, r_out = circle_out[1], circle_out[0], circle_out[2]\n",
    "\t    \n",
    "\t    thetas = np.arange(0, 2  * np.pi, 2  * np.pi / width) #Theta values\n",
    "\t    \n",
    "\t    # Create empty flatten image\n",
    "\t    flat = np.zeros((height, width, 3), np.uint8)\n",
    "\t    \n",
    "\t    for i in range(width):\n",
    "\t        \n",
    "\t        theta = thetas[i] # value of theta coordinate\n",
    "\t        \n",
    "\t        for j in range(height):\n",
    "\t            \n",
    "\t            r_pro = j / height # value of r coordinate(normalized)\n",
    "\n",
    "\t            # get coordinate of boundaries\n",
    "\t            Xi = X_in_cen + r_in * np.cos(theta)\n",
    "\t            Yi = Y_in_cen + r_in * np.sin(theta)\n",
    "\t            Xo = X_out_cen + r_out * np.cos(theta)\n",
    "\t            Yo = Y_out_cen + r_out * np.sin(theta)\n",
    "\n",
    "\t            # the matched cartesian coordinates for the polar coordinates\n",
    "\t            Xc = (1 - r_pro) * Xi + r_pro * Xo\n",
    "\t            Yc = (1 - r_pro) * Yi + r_pro * Yo\n",
    "\n",
    "\t            color = img[int(Xc)][int(Yc)] # color of the pixel\n",
    "\n",
    "\t            flat[j][i] = color # fill color\n",
    "\t            \n",
    "\t    return flat\n",
    "\n",
    "\n",
    "    \n",
    "    return flat_img\n",
    "\n",
    "\n",
    "\n",
    "\n",
    "\n",
    "\n"
   ]
  },
  {
   "cell_type": "code",
   "execution_count": null,
   "metadata": {
    "collapsed": true
   },
   "outputs": [],
   "source": []
  }
 ],
 "metadata": {
  "kernelspec": {
   "display_name": "Python 2",
   "language": "python",
   "name": "python2"
  },
  "language_info": {
   "codemirror_mode": {
    "name": "ipython",
    "version": 2
   },
   "file_extension": ".py",
   "mimetype": "text/x-python",
   "name": "python",
   "nbconvert_exporter": "python",
   "pygments_lexer": "ipython2",
   "version": "2.7.13"
  }
 },
 "nbformat": 4,
 "nbformat_minor": 0
}
