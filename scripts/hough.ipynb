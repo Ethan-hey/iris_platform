{
 "cells": [
  {
   "cell_type": "code",
   "execution_count": 168,
   "metadata": {
    "collapsed": true
   },
   "outputs": [],
   "source": [
    "import cv2\n",
    "import matplotlib.pyplot as plt\n",
    "import numpy as np\n",
    "%matplotlib inline\n",
    "\n",
    "from __future__ import division"
   ]
  },
  {
   "cell_type": "markdown",
   "metadata": {},
   "source": [
    "func(img_name):\n",
    "    1. create gray version\n",
    "    2. Hough to detect circles \n",
    "    3. set thetas and rs\n",
    "    4. draw blank image\n",
    "    5. normalie image\n",
    "return (cut_image, gray_image)"
   ]
  },
  {
   "cell_type": "code",
   "execution_count": 218,
   "metadata": {
    "collapsed": false
   },
   "outputs": [],
   "source": [
    "img = cv2.imread('S3001L01.jpg')\n",
    "gray = cv2.cvtColor(img,cv2.COLOR_BGR2GRAY)#灰度图像 \n",
    "gray = cv2.medianBlur(gray, 17)"
   ]
  },
  {
   "cell_type": "markdown",
   "metadata": {},
   "source": [
    "#### Hough transform"
   ]
  },
  {
   "cell_type": "code",
   "execution_count": 170,
   "metadata": {
    "collapsed": false
   },
   "outputs": [],
   "source": [
    "ret, th3 = cv2.threshold(gray, 0, 255, cv2.THRESH_BINARY + cv2.THRESH_OTSU)\n",
    "\n",
    "#hough transform\n",
    "circles1 = cv2.HoughCircles(image=gray,method=cv2.cv.CV_HOUGH_GRADIENT,dp=1,\n",
    "                            minDist=50,param1=ret,param2=30,minRadius=1,maxRadius=200)\n",
    "circles = circles1[0,:,:]\n",
    "# circles = np.uint16(np.around(circles))#四舍五入，取整\n",
    "\n",
    "for i in circles[:]: \n",
    "    cv2.circle(img,(i[0],i[1]),int(i[2]),(255,0,0),5)#画圆\n",
    "#     cv2.circle(img,(i[0],i[1]),2,(255,0,255),10)#画圆心"
   ]
  },
  {
   "cell_type": "markdown",
   "metadata": {},
   "source": [
    "##### Set circles boundary"
   ]
  },
  {
   "cell_type": "code",
   "execution_count": 171,
   "metadata": {
    "collapsed": false
   },
   "outputs": [],
   "source": [
    "circle_in = circles1.copy()[0][0]\n",
    "circle_out = circle_in.copy()\n",
    "circle_out[2] = 120"
   ]
  },
  {
   "cell_type": "code",
   "execution_count": null,
   "metadata": {
    "collapsed": true
   },
   "outputs": [],
   "source": []
  },
  {
   "cell_type": "code",
   "execution_count": 172,
   "metadata": {
    "collapsed": false
   },
   "outputs": [],
   "source": [
    "thetas = np.arange(0, 2  * np.pi, 2  * np.pi / 360)\n",
    "rs = np.arange(0, 1, 1 / 60)"
   ]
  },
  {
   "cell_type": "code",
   "execution_count": 173,
   "metadata": {
    "collapsed": true
   },
   "outputs": [],
   "source": [
    "X_in_cen, Y_in_cen, r_in = circle_in[1], circle_in[0], circle_in[2]\n",
    "X_out_cen, Y_out_cen, r_out = circle_out[1], circle_out[0], circle_out[2]"
   ]
  },
  {
   "cell_type": "code",
   "execution_count": 175,
   "metadata": {
    "collapsed": true
   },
   "outputs": [],
   "source": [
    "def create_blank(width, height, rgb_color=(0, 0, 0)):\n",
    "    \"\"\"Create new image(numpy array) filled with certain color in RGB\"\"\"\n",
    "    # Create black blank image\n",
    "    image = np.zeros((height, width, 3), np.uint8)\n",
    "\n",
    "    # Since OpenCV uses BGR, convert the color first\n",
    "    color = tuple(reversed(rgb_color))\n",
    "    # Fill image with color\n",
    "    image[:] = color\n",
    "\n",
    "    return image\n",
    "\n",
    "# Create new blank 300x300 red image\n",
    "width, height = 300, 300\n",
    "\n",
    "red = (255, 0, 0)\n",
    "image = create_blank(width, height, rgb_color=red)\n",
    "# cv2.imwrite('red.jpg', image)"
   ]
  },
  {
   "cell_type": "code",
   "execution_count": 148,
   "metadata": {
    "collapsed": true
   },
   "outputs": [],
   "source": [
    "flatten = np.zeros((60, 360, 3), np.uint8)"
   ]
  },
  {
   "cell_type": "code",
   "execution_count": 219,
   "metadata": {
    "collapsed": false
   },
   "outputs": [],
   "source": [
    "X_left, X_right = X_out_cen - r_out, X_out_cen + r_out\n",
    "Y_left, Y_right = Y_out_cen - r_out, Y_out_cen + r_out\n",
    "dist_list = []\n",
    "for i in range(img.shape[0]):\n",
    "    for j in range(img.shape[1]):\n",
    "        x_dis = i - X_out_cen\n",
    "        y_dis = j - Y_out_cen\n",
    "        dist = np.sqrt(x_dis**2 + y_dis**2)\n",
    "        if dist < r_in or dist > r_out:\n",
    "            img[i][j] = tuple(reversed((255, 255, 255)))"
   ]
  },
  {
   "cell_type": "code",
   "execution_count": 220,
   "metadata": {
    "collapsed": false
   },
   "outputs": [
    {
     "data": {
      "text/plain": [
       "-1"
      ]
     },
     "execution_count": 220,
     "metadata": {},
     "output_type": "execute_result"
    }
   ],
   "source": [
    "cv2.imshow('img', img)\n",
    "cv2.waitKey(0)"
   ]
  },
  {
   "cell_type": "code",
   "execution_count": null,
   "metadata": {
    "collapsed": true
   },
   "outputs": [],
   "source": []
  },
  {
   "cell_type": "code",
   "execution_count": 154,
   "metadata": {
    "collapsed": false
   },
   "outputs": [
    {
     "data": {
      "text/plain": [
       "<reversed at 0x747b320>"
      ]
     },
     "execution_count": 154,
     "metadata": {},
     "output_type": "execute_result"
    }
   ],
   "source": [
    "reversed((255, 0, 0))"
   ]
  },
  {
   "cell_type": "code",
   "execution_count": 163,
   "metadata": {
    "collapsed": false
   },
   "outputs": [],
   "source": [
    "for i in range(img.shape[0]):\n",
    "    for j in range(img.shape[1]):\n",
    "        img[i][j] = tuple(reversed((255, 0, 0)))"
   ]
  },
  {
   "cell_type": "code",
   "execution_count": 165,
   "metadata": {
    "collapsed": false
   },
   "outputs": [
    {
     "data": {
      "text/plain": [
       "-1"
      ]
     },
     "execution_count": 165,
     "metadata": {},
     "output_type": "execute_result"
    }
   ],
   "source": [
    "cv2.imshow('a', img)\n",
    "cv2.waitKey(0)"
   ]
  },
  {
   "cell_type": "code",
   "execution_count": 149,
   "metadata": {
    "collapsed": false
   },
   "outputs": [
    {
     "name": "stdout",
     "output_type": "stream",
     "text": [
      "[ 310.5         207.5          33.35416031]\n",
      "[ 310.5  207.5  120. ]\n"
     ]
    }
   ],
   "source": [
    "print circle_in\n",
    "print circle_out"
   ]
  },
  {
   "cell_type": "code",
   "execution_count": 150,
   "metadata": {
    "collapsed": false
   },
   "outputs": [],
   "source": [
    "for i in range(360):\n",
    "    theta = thetas[i]\n",
    "    for j in range(60):\n",
    "        r_pro = j / 60\n",
    "        \n",
    "        Xi = X_in_cen + r_in * np.cos(theta)\n",
    "        Yi = Y_in_cen + r_in * np.sin(theta)\n",
    "        Xo = X_out_cen + r_out * np.cos(theta)\n",
    "        Yo = Y_out_cen + r_out * np.sin(theta)\n",
    "        \n",
    "        Xc = (1 - r_pro) * Xi + r_pro * Xo\n",
    "        Yc = (1 - r_pro) * Yi + r_pro * Yo\n",
    "        \n",
    "        color = img[int(Xc)][int(Yc)]\n",
    "\n",
    "        flatten[j][i] = color"
   ]
  },
  {
   "cell_type": "code",
   "execution_count": 151,
   "metadata": {
    "collapsed": false
   },
   "outputs": [
    {
     "data": {
      "text/plain": [
       "-1"
      ]
     },
     "execution_count": 151,
     "metadata": {},
     "output_type": "execute_result"
    }
   ],
   "source": [
    "cv2.imshow('flatten', flatten)\n",
    "cv2.imshow('img', img)\n",
    "cv2.waitKey(0)"
   ]
  }
 ],
 "metadata": {
  "kernelspec": {
   "display_name": "Python 2",
   "language": "python",
   "name": "python2"
  },
  "language_info": {
   "codemirror_mode": {
    "name": "ipython",
    "version": 2
   },
   "file_extension": ".py",
   "mimetype": "text/x-python",
   "name": "python",
   "nbconvert_exporter": "python",
   "pygments_lexer": "ipython2",
   "version": "2.7.13"
  }
 },
 "nbformat": 4,
 "nbformat_minor": 0
}
