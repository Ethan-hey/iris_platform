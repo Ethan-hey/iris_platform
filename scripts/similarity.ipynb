{
 "cells": [
  {
   "cell_type": "code",
   "execution_count": 1,
   "metadata": {
    "collapsed": true
   },
   "outputs": [],
   "source": [
    "import sys\n",
    "\n",
    "from scipy.misc import imread\n",
    "from scipy.linalg import norm\n",
    "from scipy import sum, average\n",
    "\n",
    "from __future__ import division\n",
    "\n",
    "import cv2"
   ]
  },
  {
   "cell_type": "code",
   "execution_count": 24,
   "metadata": {
    "collapsed": true
   },
   "outputs": [],
   "source": [
    "iris = cv2.imread('S3001L01.jpg')"
   ]
  },
  {
   "cell_type": "code",
   "execution_count": 75,
   "metadata": {
    "collapsed": false
   },
   "outputs": [],
   "source": [
    "def crop_resize(img, height=480, width=640):\n",
    "    imgH = img.shape[0]\n",
    "    imgW = img.shape[1]\n",
    "    ratio = height / width\n",
    "    img_ratio = imgH / imgW\n",
    "    \n",
    "#     if img_ratio == ratio:\n",
    "#         return img.copy()\n",
    "    if img_ratio > ratio:\n",
    "        c_img = img[0:int(ratio * imgW), 0:imgW]\n",
    "    elif img_ratio < ratio:\n",
    "        c_img = img[0:imgH, 0:(imgH / ratio)]\n",
    "    else:\n",
    "        c_img = img[0:imgH, 0:imgW]\n",
    "    c_img = cv2.resize(c_img, (height, width))\n",
    "    return c_img"
   ]
  },
  {
   "cell_type": "code",
   "execution_count": 25,
   "metadata": {
    "collapsed": true
   },
   "outputs": [],
   "source": [
    "big_img = cv2.imread('DSC_0604ok.jpg')"
   ]
  },
  {
   "cell_type": "code",
   "execution_count": 2,
   "metadata": {
    "collapsed": true
   },
   "outputs": [],
   "source": [
    "def simil():\n",
    "    file1, file2 = sys.argv[1:1+2]\n",
    "    # read images as 2D arrays (convert to grayscale for simplicity)\n",
    "    img1 = to_grayscale(imread(file1).astype(float))\n",
    "    img2 = to_grayscale(imread(file2).astype(float))\n",
    "    # compare\n",
    "    n_m, n_0 = compare_images(img1, img2)\n",
    "    print \"Manhattan norm:\", n_m, \"/ per pixel:\", n_m/img1.size\n",
    "    print \"Zero norm:\", n_0, \"/ per pixel:\", n_0*1.0/img1.size"
   ]
  },
  {
   "cell_type": "code",
   "execution_count": null,
   "metadata": {
    "collapsed": true
   },
   "outputs": [],
   "source": []
  },
  {
   "cell_type": "code",
   "execution_count": 43,
   "metadata": {
    "collapsed": false
   },
   "outputs": [
    {
     "name": "stdout",
     "output_type": "stream",
     "text": [
      "../../hq_iris_image/*.jpg\n"
     ]
    }
   ],
   "source": [
    "from os import path\n",
    "from glob import glob  \n",
    "def find_ext(dr, ext):\n",
    "    print path.join(dr,\"*.{}\".format(ext))\n",
    "    return glob(path.join(dr,\"*.{}\".format(ext)))\n",
    "\n",
    "images = find_ext(\"../../hq_iris_image/\",\"jpg\")"
   ]
  },
  {
   "cell_type": "code",
   "execution_count": 55,
   "metadata": {
    "collapsed": true
   },
   "outputs": [],
   "source": [
    "import matplotlib.pyplot as plt\n",
    "import datetime\n",
    "%matplotlib inline"
   ]
  },
  {
   "cell_type": "code",
   "execution_count": 78,
   "metadata": {
    "collapsed": false
   },
   "outputs": [],
   "source": [
    "dist_list = []\n",
    "for i in range(100):\n",
    "    img1 = images[i]\n",
    "    img2 = images[i+40]\n",
    "    img1 = cv2.imread(img1)\n",
    "    img2 = cv2.imread(img2)\n",
    "    dists = compare_images(img1, img2)\n",
    "    dist_list.append(dists[0])"
   ]
  },
  {
   "cell_type": "code",
   "execution_count": 79,
   "metadata": {
    "collapsed": false
   },
   "outputs": [
    {
     "data": {
      "text/plain": [
       "[<matplotlib.lines.Line2D at 0xbc6a438>]"
      ]
     },
     "execution_count": 79,
     "metadata": {},
     "output_type": "execute_result"
    },
    {
     "data": {
      "image/png": "[encoded data removed]",
      "text/plain": [
       "<matplotlib.figure.Figure at 0xb6b50b8>"
      ]
     },
     "metadata": {},
     "output_type": "display_data"
    }
   ],
   "source": [
    "plt.plot(range(100), dist_list, '*')"
   ]
  },
  {
   "cell_type": "code",
   "execution_count": 54,
   "metadata": {
    "collapsed": false
   },
   "outputs": [
    {
     "name": "stdout",
     "output_type": "stream",
     "text": [
      "227.528753255\n"
     ]
    }
   ],
   "source": [
    "print max(dist_list)"
   ]
  },
  {
   "cell_type": "code",
   "execution_count": 65,
   "metadata": {
    "collapsed": true
   },
   "outputs": [],
   "source": [
    "fb1 = cv2.imread('18138004_163325265000_2.jpg')\n",
    "fb2 = cv2.imread('20130711120117-1161777702.jpg')\n",
    "fb3 = cv2.imread('9667726_082238294187_2.jpg')"
   ]
  },
  {
   "cell_type": "code",
   "execution_count": 70,
   "metadata": {
    "collapsed": false
   },
   "outputs": [
    {
     "data": {
      "text/plain": [
       "2.0"
      ]
     },
     "execution_count": 70,
     "metadata": {},
     "output_type": "execute_result"
    }
   ],
   "source": [
    "average([1, 2, 3])"
   ]
  },
  {
   "cell_type": "code",
   "execution_count": 77,
   "metadata": {
    "collapsed": false
   },
   "outputs": [
    {
     "name": "stderr",
     "output_type": "stream",
     "text": [
      "C:\\Users\\THINKPAD\\Anaconda2\\lib\\site-packages\\ipykernel\\__main__.py:12: VisibleDeprecationWarning: using a non-integer number instead of an integer will result in an error in the future\n"
     ]
    },
    {
     "name": "stdout",
     "output_type": "stream",
     "text": [
      "0.227931183651\n",
      "0.382023824689\n",
      "0.518072746646\n"
     ]
    }
   ],
   "source": [
    "fbs = [fb1, fb2, fb3]\n",
    "for fb in fbs:\n",
    "    dist_list = []\n",
    "    for i in range(100):\n",
    "        img = cv2.imread(images[5 * i])\n",
    "        dist = compare_images(fb, img)\n",
    "        dist_list.append(dist[0])\n",
    "    print average(dist_list)"
   ]
  },
  {
   "cell_type": "code",
   "execution_count": 66,
   "metadata": {
    "collapsed": false
   },
   "outputs": [
    {
     "name": "stdout",
     "output_type": "stream",
     "text": [
      "equal\n",
      "small\n",
      "Manhattan norm per pixel: 0.251637869082\n",
      "Zero norm per pixel: 0.999957682292\n",
      "(0.25163786908188251, 0.99995768229166671)\n",
      "equal\n",
      "small\n",
      "Manhattan norm per pixel: 0.375205753494\n",
      "Zero norm per pixel: 1.0\n",
      "(0.37520575349440494, 1.0)\n",
      "equal\n",
      "large\n",
      "Manhattan norm per pixel: 0.510688606886\n",
      "Zero norm per pixel: 1.0\n",
      "(0.51068860688593232, 1.0)\n"
     ]
    },
    {
     "name": "stderr",
     "output_type": "stream",
     "text": [
      "C:\\Users\\THINKPAD\\Anaconda2\\lib\\site-packages\\ipykernel\\__main__.py:14: VisibleDeprecationWarning: using a non-integer number instead of an integer will result in an error in the future\n"
     ]
    }
   ],
   "source": [
    "print compare_images(iris, fb1)\n",
    "print compare_images(iris, fb2)\n",
    "print compare_images(iris, fb3)"
   ]
  },
  {
   "cell_type": "code",
   "execution_count": 69,
   "metadata": {
    "collapsed": false,
    "scrolled": true
   },
   "outputs": [
    {
     "name": "stdout",
     "output_type": "stream",
     "text": [
      "equal\n",
      "large\n",
      "Manhattan norm per pixel: 0.153302253127\n",
      "Zero norm per pixel: 1.0\n"
     ]
    },
    {
     "data": {
      "text/plain": [
       "(0.15330225312698703, 1.0)"
      ]
     },
     "execution_count": 69,
     "metadata": {},
     "output_type": "execute_result"
    }
   ],
   "source": [
    "compare_images(iris, big_img)"
   ]
  },
  {
   "cell_type": "code",
   "execution_count": 52,
   "metadata": {
    "collapsed": false
   },
   "outputs": [
    {
     "name": "stdout",
     "output_type": "stream",
     "text": [
      "equal\n",
      "equal\n",
      "Manhattan norm per pixel: 0.0\n",
      "Zero norm per pixel: 0.0\n"
     ]
    },
    {
     "data": {
      "text/plain": [
       "(0.0, 0.0)"
      ]
     },
     "execution_count": 52,
     "metadata": {},
     "output_type": "execute_result"
    }
   ],
   "source": [
    "compare_images(iris, iris)"
   ]
  },
  {
   "cell_type": "code",
   "execution_count": 31,
   "metadata": {
    "collapsed": false
   },
   "outputs": [],
   "source": [
    "img1 = cv2.cvtColor(iris,cv2.COLOR_BGR2GRAY)"
   ]
  },
  {
   "cell_type": "code",
   "execution_count": 38,
   "metadata": {
    "collapsed": false
   },
   "outputs": [
    {
     "name": "stdout",
     "output_type": "stream",
     "text": [
      "equal\n"
     ]
    }
   ],
   "source": [
    "img1 = crop_resize(img1)"
   ]
  },
  {
   "cell_type": "code",
   "execution_count": 59,
   "metadata": {
    "collapsed": true
   },
   "outputs": [],
   "source": [
    "i = normalize(iris)"
   ]
  },
  {
   "cell_type": "code",
   "execution_count": 73,
   "metadata": {
    "collapsed": false
   },
   "outputs": [],
   "source": [
    "def compare_images(img1, img2, verbose=False):\n",
    "    # normalize to compensate for exposure difference, this may be unnecessary\n",
    "    # consider disabling it\n",
    "    img1 = cv2.cvtColor(img1,cv2.COLOR_BGR2GRAY)\n",
    "    img2 = cv2.cvtColor(img2,cv2.COLOR_BGR2GRAY)\n",
    "    img1 = crop_resize(img1)\n",
    "    img2 = crop_resize(img2)\n",
    "    img1 = normalize(img1)\n",
    "    img2 = normalize(img2)\n",
    "    \n",
    "    # calculate the difference and its norms\n",
    "    diff = img1 - img2  # elementwise for scipy arrays\n",
    "    m_norm = sum(abs(diff))  # Manhattan norm\n",
    "    z_norm = norm(diff.ravel(), 0)  # Zero norm\n",
    "    if verbose:\n",
    "        print \"Manhattan norm per pixel:\", m_norm/img1.size\n",
    "        print \"Zero norm per pixel:\", z_norm*1.0/img1.size \n",
    "    \n",
    "#     print \"Manhattan norm:\", m_norm, \"/ per pixel:\", m_norm/img1.size\n",
    "#     print \"Zero norm:\", z_norm, \"/ per pixel:\", z_norm*1.0/img1.size\n",
    "    return (m_norm/img1.size, z_norm/img1.size )"
   ]
  },
  {
   "cell_type": "code",
   "execution_count": 27,
   "metadata": {
    "collapsed": true
   },
   "outputs": [],
   "source": [
    "def to_grayscale(arr):\n",
    "    \"If arr is a color image (3D array), convert it to grayscale (2D array).\"\n",
    "    if len(arr.shape) == 3:\n",
    "        return average(arr, -1)  # average over the last axis (color channels)\n",
    "    else:\n",
    "        return arr"
   ]
  },
  {
   "cell_type": "code",
   "execution_count": 28,
   "metadata": {
    "collapsed": true
   },
   "outputs": [],
   "source": [
    "def normalize(arr):\n",
    "    rng = arr.max()-arr.min()\n",
    "    amin = arr.min()\n",
    "    return (arr-amin)*255/rng"
   ]
  },
  {
   "cell_type": "code",
   "execution_count": null,
   "metadata": {
    "collapsed": true
   },
   "outputs": [],
   "source": []
  }
 ],
 "metadata": {
  "kernelspec": {
   "display_name": "Python 2",
   "language": "python",
   "name": "python2"
  },
  "language_info": {
   "codemirror_mode": {
    "name": "ipython",
    "version": 2
   },
   "file_extension": ".py",
   "mimetype": "text/x-python",
   "name": "python",
   "nbconvert_exporter": "python",
   "pygments_lexer": "ipython2",
   "version": "2.7.13"
  }
 },
 "nbformat": 4,
 "nbformat_minor": 0
}
