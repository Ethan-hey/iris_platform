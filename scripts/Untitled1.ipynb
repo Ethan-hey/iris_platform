{
 "cells": [
  {
   "cell_type": "code",
   "execution_count": 2,
   "metadata": {
    "collapsed": false
   },
   "outputs": [],
   "source": [
    "from Untitled import create_blank_img"
   ]
  },
  {
   "cell_type": "code",
   "execution_count": 3,
   "metadata": {
    "collapsed": true
   },
   "outputs": [],
   "source": [
    "import cv2\n",
    "import matplotlib.pyplot as plt\n",
    "import numpy as np\n",
    "%matplotlib inline\n",
    "from __future__ import division"
   ]
  },
  {
   "cell_type": "code",
   "execution_count": 4,
   "metadata": {
    "collapsed": true
   },
   "outputs": [],
   "source": [
    "img = cv2.imread('S3001L01.jpg')"
   ]
  },
  {
   "cell_type": "code",
   "execution_count": 5,
   "metadata": {
    "collapsed": true
   },
   "outputs": [],
   "source": [
    "def pre_process(image, width=360, height=60):\n",
    "    \n",
    "    # Convert image to gray and blur\n",
    "    gray = cv2.cvtColor(image,cv2.COLOR_BGR2GRAY)\n",
    "    gray = cv2.medianBlur(gray, 17)\n",
    "    \n",
    "    # Use Hough transform to detect circle\n",
    "    ret, th3 = cv2.threshold(gray, 0, 255, cv2.THRESH_BINARY + cv2.THRESH_OTSU)\n",
    "    circle_in = cv2.HoughCircles(image=gray,method=cv2.cv.CV_HOUGH_GRADIENT,dp=1,\n",
    "                            minDist=50,param1=ret,param2=30,minRadius=1,maxRadius=200)[0][0]\n",
    "    circle_out = circle_in.copy()\n",
    "    circle_out[2] = 120\n",
    "    \n",
    "    # x, y, r for the inner circle and outer circle\n",
    "    X_in_cen, Y_in_cen, r_in = circle_in[1], circle_in[0], circle_in[2]\n",
    "    X_out_cen, Y_out_cen, r_out = circle_out[1], circle_out[0], circle_out[2]\n",
    "    \n",
    "    thetas = np.arange(0, 2  * np.pi, 2  * np.pi / width) #Theta values\n",
    "    \n",
    "    # Create empty flatten image\n",
    "    flat = np.zeros((height, width, 3), np.uint8)\n",
    "    \n",
    "    for i in range(width):\n",
    "        for j in range(height):\n",
    "            \n",
    "            theta = thetas[i] # value of theta coordinate\n",
    "            r_pro = j / height # value of r coordinate(normalized)\n",
    "\n",
    "            # get coordinate of boundaries\n",
    "            Xi = X_in_cen + r_in * np.cos(theta)\n",
    "            Yi = Y_in_cen + r_in * np.sin(theta)\n",
    "            Xo = X_out_cen + r_out * np.cos(theta)\n",
    "            Yo = Y_out_cen + r_out * np.sin(theta)\n",
    "\n",
    "            # the matched cartesian coordinates for the polar coordinates\n",
    "            Xc = (1 - r_pro) * Xi + r_pro * Xo\n",
    "            Yc = (1 - r_pro) * Yi + r_pro * Yo\n",
    "\n",
    "            color = img[int(Xc)][int(Yc)] # color of the pixel\n",
    "\n",
    "            flat[j][i] = color # fill color\n",
    "        \n",
    "    return flat"
   ]
  },
  {
   "cell_type": "code",
   "execution_count": 6,
   "metadata": {
    "collapsed": true
   },
   "outputs": [],
   "source": [
    "flat = pre_process(img)"
   ]
  },
  {
   "cell_type": "code",
   "execution_count": 7,
   "metadata": {
    "collapsed": false
   },
   "outputs": [
    {
     "data": {
      "text/plain": [
       "-1"
      ]
     },
     "execution_count": 7,
     "metadata": {},
     "output_type": "execute_result"
    }
   ],
   "source": [
    "cv2.imshow('flat', flat)\n",
    "cv2.waitKey(0)"
   ]
  },
  {
   "cell_type": "code",
   "execution_count": null,
   "metadata": {
    "collapsed": true
   },
   "outputs": [],
   "source": []
  }
 ],
 "metadata": {
  "kernelspec": {
   "display_name": "Python 2",
   "language": "python",
   "name": "python2"
  },
  "language_info": {
   "codemirror_mode": {
    "name": "ipython",
    "version": 2
   },
   "file_extension": ".py",
   "mimetype": "text/x-python",
   "name": "python",
   "nbconvert_exporter": "python",
   "pygments_lexer": "ipython2",
   "version": "2.7.13"
  }
 },
 "nbformat": 4,
 "nbformat_minor": 0
}
